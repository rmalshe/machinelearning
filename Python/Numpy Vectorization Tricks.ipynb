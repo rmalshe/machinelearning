{
 "cells": [
  {
   "cell_type": "markdown",
   "metadata": {
    "slideshow": {
     "slide_type": "slide"
    }
   },
   "source": [
    "# Faster data manipulation and vectorizing with pandas and NumPy\n",
    "\n",
    "This iPython notebooks is inspired by PyCon talk: Original video [here](https://youtu.be/nxWginnBklU)."
   ]
  },
  {
   "cell_type": "code",
   "execution_count": 1,
   "metadata": {
    "slideshow": {
     "slide_type": "fragment"
    }
   },
   "outputs": [
    {
     "data": {
      "text/html": [
       "<style>.container { width:100% !important; }</style>"
      ],
      "text/plain": [
       "<IPython.core.display.HTML object>"
      ]
     },
     "metadata": {},
     "output_type": "display_data"
    }
   ],
   "source": [
    "import pandas as pd\n",
    "import numpy as np\n",
    "import re\n",
    "import time\n",
    "\n",
    "from IPython.core.display import display, HTML\n",
    "display(HTML(\"<style>.container { width:100% !important; }</style>\"))\n",
    "\n",
    "from IPython.core.interactiveshell import InteractiveShell\n",
    "InteractiveShell.ast_node_interactivity = \"all\"\n",
    "\n",
    "pd.set_option('max_columns', 15)\n",
    "pd.set_option('chained_assignment', None)"
   ]
  },
  {
   "cell_type": "markdown",
   "metadata": {
    "slideshow": {
     "slide_type": "slide"
    }
   },
   "source": [
    "## Read in and setup the data \n",
    "This CSV is an example of the data I worked on while practicing learning how to vectorize former `.apply` function. \n",
    "The data here have been scrubbed and scrambled to not relate to any real-life data."
   ]
  },
  {
   "cell_type": "code",
   "execution_count": 2,
   "metadata": {
    "slideshow": {
     "slide_type": "subslide"
    }
   },
   "outputs": [],
   "source": [
    "df = pd.read_csv('sample_data_pygotham2019.csv', \n",
    "                 parse_dates=['Date Created', \n",
    "                              'Original Record: Date Created'\n",
    "                             ]\n",
    "                )"
   ]
  },
  {
   "cell_type": "markdown",
   "metadata": {},
   "source": [
    "### Data inspection "
   ]
  },
  {
   "cell_type": "code",
   "execution_count": 3,
   "metadata": {
    "slideshow": {
     "slide_type": "subslide"
    }
   },
   "outputs": [
    {
     "data": {
      "text/plain": [
       "(273399, 14)"
      ]
     },
     "execution_count": 3,
     "metadata": {},
     "output_type": "execute_result"
    },
    {
     "data": {
      "text/html": [
       "<div>\n",
       "<style scoped>\n",
       "    .dataframe tbody tr th:only-of-type {\n",
       "        vertical-align: middle;\n",
       "    }\n",
       "\n",
       "    .dataframe tbody tr th {\n",
       "        vertical-align: top;\n",
       "    }\n",
       "\n",
       "    .dataframe thead th {\n",
       "        text-align: right;\n",
       "    }\n",
       "</style>\n",
       "<table border=\"1\" class=\"dataframe\">\n",
       "  <thead>\n",
       "    <tr style=\"text-align: right;\">\n",
       "      <th></th>\n",
       "      <th>Internal ID</th>\n",
       "      <th>ID</th>\n",
       "      <th>Category</th>\n",
       "      <th>Lead Source</th>\n",
       "      <th>Lead Source Category</th>\n",
       "      <th>Current Status</th>\n",
       "      <th>Status at Time of Lead</th>\n",
       "      <th>Original Record: Date Created</th>\n",
       "      <th>Date Created</th>\n",
       "      <th>Inactive</th>\n",
       "      <th>Specialty</th>\n",
       "      <th>Providers</th>\n",
       "      <th>duplicate_leads</th>\n",
       "      <th>bad_leads</th>\n",
       "    </tr>\n",
       "  </thead>\n",
       "  <tbody>\n",
       "    <tr>\n",
       "      <th>0</th>\n",
       "      <td>16</td>\n",
       "      <td>1966</td>\n",
       "      <td>Practice</td>\n",
       "      <td>Nonpaid : Email : Webinar : Efficiency Kiosk A...</td>\n",
       "      <td>- None -</td>\n",
       "      <td>CLIENT-Deactivated</td>\n",
       "      <td>- None -</td>\n",
       "      <td>2003-04-30 18:15:00</td>\n",
       "      <td>2015-08-14 15:18:00</td>\n",
       "      <td>No</td>\n",
       "      <td>Dermatology</td>\n",
       "      <td>0.0</td>\n",
       "      <td>False</td>\n",
       "      <td>True</td>\n",
       "    </tr>\n",
       "    <tr>\n",
       "      <th>1</th>\n",
       "      <td>16</td>\n",
       "      <td>6213</td>\n",
       "      <td>Practice</td>\n",
       "      <td>Nonpaid : Email : Webinar : Efficiency Kiosk A...</td>\n",
       "      <td>- None -</td>\n",
       "      <td>CLIENT-Deactivated</td>\n",
       "      <td>- None -</td>\n",
       "      <td>2003-04-30 18:15:00</td>\n",
       "      <td>2015-08-14 15:18:00</td>\n",
       "      <td>No</td>\n",
       "      <td>Dermatology</td>\n",
       "      <td>0.0</td>\n",
       "      <td>True</td>\n",
       "      <td>True</td>\n",
       "    </tr>\n",
       "    <tr>\n",
       "      <th>2</th>\n",
       "      <td>16</td>\n",
       "      <td>6936</td>\n",
       "      <td>Practice</td>\n",
       "      <td>Nonpaid : Webinar : AdvancedFax and Patient : ...</td>\n",
       "      <td>- None -</td>\n",
       "      <td>CLIENT-Deactivated</td>\n",
       "      <td>- None -</td>\n",
       "      <td>2003-04-30 18:15:00</td>\n",
       "      <td>2015-12-03 17:33:00</td>\n",
       "      <td>No</td>\n",
       "      <td>Dermatology</td>\n",
       "      <td>0.0</td>\n",
       "      <td>False</td>\n",
       "      <td>True</td>\n",
       "    </tr>\n",
       "    <tr>\n",
       "      <th>3</th>\n",
       "      <td>16</td>\n",
       "      <td>4557</td>\n",
       "      <td>Practice</td>\n",
       "      <td>Nonpaid : Webinar : AdvancedFax and Patient : ...</td>\n",
       "      <td>- None -</td>\n",
       "      <td>CLIENT-Deactivated</td>\n",
       "      <td>- None -</td>\n",
       "      <td>2003-04-30 18:15:00</td>\n",
       "      <td>2015-12-03 17:33:00</td>\n",
       "      <td>No</td>\n",
       "      <td>Dermatology</td>\n",
       "      <td>0.0</td>\n",
       "      <td>True</td>\n",
       "      <td>True</td>\n",
       "    </tr>\n",
       "    <tr>\n",
       "      <th>4</th>\n",
       "      <td>20</td>\n",
       "      <td>8637</td>\n",
       "      <td>Practice</td>\n",
       "      <td>Nonpaid : Webinar : HIPAA Audit Prep : LSID 53...</td>\n",
       "      <td>- None -</td>\n",
       "      <td>CLIENT-Live</td>\n",
       "      <td>CLIENT-Live</td>\n",
       "      <td>2003-04-30 18:15:00</td>\n",
       "      <td>2016-08-24 14:09:00</td>\n",
       "      <td>No</td>\n",
       "      <td>Plastic Surgery</td>\n",
       "      <td>1.0</td>\n",
       "      <td>False</td>\n",
       "      <td>False</td>\n",
       "    </tr>\n",
       "  </tbody>\n",
       "</table>\n",
       "</div>"
      ],
      "text/plain": [
       "   Internal ID    ID  Category  \\\n",
       "0           16  1966  Practice   \n",
       "1           16  6213  Practice   \n",
       "2           16  6936  Practice   \n",
       "3           16  4557  Practice   \n",
       "4           20  8637  Practice   \n",
       "\n",
       "                                         Lead Source Lead Source Category  \\\n",
       "0  Nonpaid : Email : Webinar : Efficiency Kiosk A...             - None -   \n",
       "1  Nonpaid : Email : Webinar : Efficiency Kiosk A...             - None -   \n",
       "2  Nonpaid : Webinar : AdvancedFax and Patient : ...             - None -   \n",
       "3  Nonpaid : Webinar : AdvancedFax and Patient : ...             - None -   \n",
       "4  Nonpaid : Webinar : HIPAA Audit Prep : LSID 53...             - None -   \n",
       "\n",
       "       Current Status Status at Time of Lead Original Record: Date Created  \\\n",
       "0  CLIENT-Deactivated               - None -           2003-04-30 18:15:00   \n",
       "1  CLIENT-Deactivated               - None -           2003-04-30 18:15:00   \n",
       "2  CLIENT-Deactivated               - None -           2003-04-30 18:15:00   \n",
       "3  CLIENT-Deactivated               - None -           2003-04-30 18:15:00   \n",
       "4         CLIENT-Live            CLIENT-Live           2003-04-30 18:15:00   \n",
       "\n",
       "         Date Created Inactive        Specialty  Providers  duplicate_leads  \\\n",
       "0 2015-08-14 15:18:00       No      Dermatology        0.0            False   \n",
       "1 2015-08-14 15:18:00       No      Dermatology        0.0             True   \n",
       "2 2015-12-03 17:33:00       No      Dermatology        0.0            False   \n",
       "3 2015-12-03 17:33:00       No      Dermatology        0.0             True   \n",
       "4 2016-08-24 14:09:00       No  Plastic Surgery        1.0            False   \n",
       "\n",
       "   bad_leads  \n",
       "0       True  \n",
       "1       True  \n",
       "2       True  \n",
       "3       True  \n",
       "4      False  "
      ]
     },
     "execution_count": 3,
     "metadata": {},
     "output_type": "execute_result"
    }
   ],
   "source": [
    "df.shape\n",
    "df.head(5)"
   ]
  },
  {
   "cell_type": "markdown",
   "metadata": {},
   "source": [
    "We visualize how many different types of columns are in the dataframe"
   ]
  },
  {
   "cell_type": "code",
   "execution_count": 4,
   "metadata": {
    "slideshow": {
     "slide_type": "subslide"
    }
   },
   "outputs": [
    {
     "data": {
      "text/plain": [
       "Internal ID                               int64\n",
       "ID                                        int64\n",
       "Category                                 object\n",
       "Lead Source                              object\n",
       "Lead Source Category                     object\n",
       "Current Status                           object\n",
       "Status at Time of Lead                   object\n",
       "Original Record: Date Created    datetime64[ns]\n",
       "Date Created                     datetime64[ns]\n",
       "Inactive                                 object\n",
       "Specialty                                object\n",
       "Providers                               float64\n",
       "duplicate_leads                            bool\n",
       "bad_leads                                  bool\n",
       "dtype: object"
      ]
     },
     "execution_count": 4,
     "metadata": {},
     "output_type": "execute_result"
    }
   ],
   "source": [
    "df.dtypes"
   ]
  },
  {
   "cell_type": "code",
   "execution_count": 5,
   "metadata": {},
   "outputs": [
    {
     "data": {
      "text/plain": [
       "['LEAD-General Pool',\n",
       " 'LEAD-Nurture',\n",
       " 'PROSPECT-LONG TERM',\n",
       " 'CLIENT-Reseller',\n",
       " 'PROSPECT-NO DECISION',\n",
       " 'CLIENT-Referring Consultant',\n",
       " 'LEAD-Claim',\n",
       " 'LEAD-Contact Program',\n",
       " 'CLIENT-Live',\n",
       " 'LEAD-Long-Term Opportunity',\n",
       " 'LEAD-3 Flame No Contact',\n",
       " 'PROSPECT-CURRENT',\n",
       " 'LEAD-No Contact',\n",
       " 'CLIENT-Implementation (EMR)',\n",
       " 'CLIENT-Closed-Sold',\n",
       " 'PROSPECT-LOST',\n",
       " 'CLIENT-Transferred',\n",
       " 'LEAD-Campaign',\n",
       " 'CLIENT-Deactivated',\n",
       " 'LEAD-Unqualified',\n",
       " 'CLIENT-Handoff',\n",
       " 'CLIENT-Partner',\n",
       " 'LEAD-Test Lead',\n",
       " 'LEAD-Vendor - Bad Lead',\n",
       " 'CLIENT-Implementation',\n",
       " 'LEAD-Engaged',\n",
       " 'LEAD-Bad Info']"
      ]
     },
     "execution_count": 5,
     "metadata": {},
     "output_type": "execute_result"
    }
   ],
   "source": [
    "list(set(df['Current Status']))"
   ]
  },
  {
   "cell_type": "markdown",
   "metadata": {},
   "source": [
    "# First attempt at vectorizing with conditionals\n",
    "Suppose we have to convert the - None - value in the column 'Current Status' as follows:"
   ]
  },
  {
   "cell_type": "code",
   "execution_count": 6,
   "metadata": {},
   "outputs": [],
   "source": [
    "def set_lead_status(row):\n",
    "    if row['Current Status'] == '- None -':\n",
    "        return row['Status at Time of Lead']\n",
    "    else:\n",
    "        return row['Current Status']"
   ]
  },
  {
   "cell_type": "code",
   "execution_count": 7,
   "metadata": {},
   "outputs": [
    {
     "name": "stdout",
     "output_type": "stream",
     "text": [
      "1 loop, best of 3: 22.3 s per loop\n"
     ]
    }
   ],
   "source": [
    "%%timeit\n",
    "test = df.apply(set_lead_status, axis=1)"
   ]
  },
  {
   "cell_type": "markdown",
   "metadata": {},
   "source": [
    "This is relatively slow. We can vectorize this by passing if/else statements to columns"
   ]
  },
  {
   "cell_type": "code",
   "execution_count": 8,
   "metadata": {},
   "outputs": [],
   "source": [
    "def set_lead_status(col1, col2):\n",
    "    if col1 == '- None -':\n",
    "        return col2\n",
    "    else:\n",
    "        return col1"
   ]
  },
  {
   "cell_type": "code",
   "execution_count": 9,
   "metadata": {},
   "outputs": [
    {
     "name": "stdout",
     "output_type": "stream",
     "text": [
      "10 loops, best of 3: 36.5 ms per loop\n"
     ]
    }
   ],
   "source": [
    "%%timeit\n",
    "try: \n",
    "    test1 = set_lead_status(df['Current Status'], df['Status at Time of Lead'])\n",
    "except: \n",
    "    pass"
   ]
  },
  {
   "cell_type": "markdown",
   "metadata": {},
   "source": [
    "Notice that .apply can make your whole code seriously slow. \n",
    "Any time you see .apply in a code, that should be your first opportunity for a speed gain. \n",
    "There is almost always a method available to eliminate .apply in a python code. "
   ]
  },
  {
   "cell_type": "markdown",
   "metadata": {},
   "source": [
    "# Elegant way: Enter `numpy.where()`\n",
    "[Documentation](https://docs.scipy.org/doc/numpy/reference/generated/numpy.where.html)\n",
    "Similar to Excel 'IF' function, you give it a condition, except this condition can handle the entire array/column in a vectorized manner. Then give it what to return if elements on that boolean array are true or false."
   ]
  },
  {
   "cell_type": "code",
   "execution_count": 10,
   "metadata": {},
   "outputs": [
    {
     "name": "stdout",
     "output_type": "stream",
     "text": [
      "10 loops, best of 3: 50.5 ms per loop\n"
     ]
    }
   ],
   "source": [
    "%%timeit\n",
    "# you can pass the output directly into a pandas Series\n",
    "\n",
    "df['normalized_status'] = np.where(\n",
    "                                    df['Status at Time of Lead'] == '- None -',   # <-- condition\n",
    "                                    df['Current Status'],                         # <-- return if true\n",
    "                                    df['Status at Time of Lead']                  # <-- return if false\n",
    "                                   )"
   ]
  },
  {
   "cell_type": "markdown",
   "metadata": {},
   "source": [
    "We can make this even faster by accessing the underlying NumPy arrays from pandas series.\n",
    "This makes it faster b/c now there's only a NumPy array of your data to pass to C, with no need for handling all the stuff attached to a pandas Series that makes them so convenient to work with. The method to achieve this is to use .values as shown below"
   ]
  },
  {
   "cell_type": "code",
   "execution_count": 11,
   "metadata": {},
   "outputs": [
    {
     "name": "stdout",
     "output_type": "stream",
     "text": [
      "100 loops, best of 3: 20.5 ms per loop\n"
     ]
    }
   ],
   "source": [
    "%%timeit\n",
    "\n",
    "df['normalized_status'] = np.where(\n",
    "    df['Status at Time of Lead'].values == '- None -',\n",
    "    df['Current Status'].values, \n",
    "    df['Status at Time of Lead'].values\n",
    ")"
   ]
  },
  {
   "cell_type": "markdown",
   "metadata": {},
   "source": [
    "Notice the speed gains in the above. Our .apply method took 10 seconds. the np.where with .values took 10 micro seconds. "
   ]
  },
  {
   "cell_type": "markdown",
   "metadata": {},
   "source": [
    "# What about `numpy.vectorize()`?\n",
    "\n",
    "This is a function that will take a Python function and turn it into a NumPy ufunc, so it can handle vectorized approaches. It _vectorizes_ your function, not necessarily how that function applies to your data. There is a difference here. Sometimes a function could be an elaborate converter, such as latitude/longitude to MGRS converter is a multiple hundred line floating point calculation and converting to np.where is not applicable in a straightforward manner. To solve such problems, significant speed gains can be achieved using numpy.vectorize()\n",
    "\n",
    "Resources:\n",
    " - https://docs.scipy.org/doc/numpy/reference/generated/numpy.vectorize.html\n",
    " - https://www.experfy.com/blog/why-you-should-forget-loops-and-embrace-vectorization-for-data-science\n"
   ]
  },
  {
   "cell_type": "code",
   "execution_count": 12,
   "metadata": {},
   "outputs": [],
   "source": [
    "# Here is our previous function that we tried to vectorize but couldn't due to the ValueError. \n",
    "def works_fast_maybe(col1, col2):\n",
    "    if col1 == '- None -':\n",
    "        return col2\n",
    "    else:\n",
    "        return col1"
   ]
  },
  {
   "cell_type": "code",
   "execution_count": 13,
   "metadata": {},
   "outputs": [],
   "source": [
    "# with the np.vectorize method --> returns a vectorized callable\n",
    "vectfunc = np.vectorize(works_fast_maybe)"
   ]
  },
  {
   "cell_type": "code",
   "execution_count": 14,
   "metadata": {},
   "outputs": [
    {
     "name": "stdout",
     "output_type": "stream",
     "text": [
      "10 loops, best of 3: 187 ms per loop\n"
     ]
    }
   ],
   "source": [
    "%%timeit \n",
    "test3 = list(vectfunc(df['Status at Time of Lead'], df['Current Status']))"
   ]
  },
  {
   "cell_type": "markdown",
   "metadata": {},
   "source": [
    "Notice, that the speed went from 10 seconds to roughly 80 micro seconds, but not exactly 10 micro seconds. Still it is much slower than np.where"
   ]
  },
  {
   "cell_type": "code",
   "execution_count": 15,
   "metadata": {},
   "outputs": [],
   "source": [
    "def can_I_go_any_faster(status_at_time, current_status):\n",
    "    # this works fine if we are setting static values\n",
    "    df['test'] = 'test'# status_at_time\n",
    "    df.loc[status_at_time == '- None -', 'test'] = current_status  # <-- ValueError, indexes don't match!\n",
    "    df.loc[status_at_time != '- None -', 'test'] = status_at_time"
   ]
  },
  {
   "cell_type": "code",
   "execution_count": 16,
   "metadata": {},
   "outputs": [
    {
     "name": "stdout",
     "output_type": "stream",
     "text": [
      "1 loop, best of 3: 136 ms per loop\n"
     ]
    }
   ],
   "source": [
    "%%timeit\n",
    "test4 = can_I_go_any_faster(df['Status at Time of Lead'], df['Current Status'])"
   ]
  },
  {
   "cell_type": "code",
   "execution_count": 17,
   "metadata": {},
   "outputs": [],
   "source": [
    "def can_I_go_any_faster2(status_at_time, current_status):\n",
    "    # this works fine if you're setting static values\n",
    "    df['test'] = 'test'# status_at_time\n",
    "    df.loc[status_at_time == '- None -', 'test'] = 'statys1_isNone' \n",
    "    df.loc[status_at_time != '- None -', 'test'] = 'statys2_notNone'"
   ]
  },
  {
   "cell_type": "code",
   "execution_count": 18,
   "metadata": {},
   "outputs": [
    {
     "name": "stdout",
     "output_type": "stream",
     "text": [
      "10 loops, best of 3: 125 ms per loop\n"
     ]
    }
   ],
   "source": [
    "%%timeit\n",
    "test5 = can_I_go_any_faster2(df['Status at Time of Lead'], df['Current Status'])"
   ]
  },
  {
   "cell_type": "markdown",
   "metadata": {
    "slideshow": {
     "slide_type": "slide"
    }
   },
   "source": [
    "# Multiple conditions"
   ]
  },
  {
   "cell_type": "markdown",
   "metadata": {
    "slideshow": {
     "slide_type": "slide"
    }
   },
   "source": [
    "### lead_category"
   ]
  },
  {
   "cell_type": "code",
   "execution_count": 19,
   "metadata": {},
   "outputs": [],
   "source": [
    "list1 = ['LEAD-3 Flame No Contact', 'LEAD-Campaign', 'LEAD-Claim', 'LEAD-Contact Program', \n",
    "         'LEAD-General Pool', 'LEAD-No Contact', 'LEAD-Nurture', 'LEAD-Unqualified', 'PROSPECT-LOST']\n",
    "\n",
    "list2 = ['- None -', 'CLIENT-Closed-Sold', 'CLIENT-Handoff', 'CLIENT-Implementation', 'CLIENT-Implementation (EMR)',\n",
    "         'CLIENT-Live', 'CLIENT-Partner', 'CLIENT-Referring Consultant', 'CLIENT-Transferred', 'LEAD-Engaged', \n",
    "         'LEAD-Long-Term Opportunity', 'PROSPECT-CURRENT', 'PROSPECT-LONG TERM', 'PROSPECT-NO DECISION']\n",
    "\n",
    "# apply version\n",
    "def lead_category(row):\n",
    "    if row['Original Record: Date Created'] == row['Date Created']:\n",
    "        return 'New Lead'\n",
    "    elif row['normalized_status'].startswith('CLI'):\n",
    "        return 'Client Lead'\n",
    "    elif row['normalized_status'] in list1:\n",
    "        return 'MTouch Lead'\n",
    "    elif row['normalized_status'] in list2:\n",
    "        return 'EMTouch Lead'\n",
    "    return 'NA'"
   ]
  },
  {
   "cell_type": "code",
   "execution_count": 20,
   "metadata": {},
   "outputs": [
    {
     "name": "stdout",
     "output_type": "stream",
     "text": [
      "1 loop, best of 3: 17.4 s per loop\n"
     ]
    }
   ],
   "source": [
    "%%timeit\n",
    "df['lead_category0'] = df.apply(lead_category, axis=1)"
   ]
  },
  {
   "cell_type": "markdown",
   "metadata": {},
   "source": [
    "You can call a `np.where` for every condition, and it will run fine. But it gets a little hard to read after a while."
   ]
  },
  {
   "cell_type": "code",
   "execution_count": 21,
   "metadata": {},
   "outputs": [
    {
     "name": "stdout",
     "output_type": "stream",
     "text": [
      "10 loops, best of 3: 151 ms per loop\n"
     ]
    }
   ],
   "source": [
    "%%timeit\n",
    "df['lead_category'] = np.where(df['Original Record: Date Created'].values == df['Date Created'].values, 'New Lead', \n",
    "            np.where(df['normalized_status'].str.startswith('CLI').values, 'Client Lead', \n",
    "                    np.where(df['normalized_status'].isin(list1).values, 'MTouch Lead', \n",
    "                            np.where(df['normalized_status'].isin(list2).values, 'EMTouch Lead', \n",
    "                                     'NA') \n",
    "                                  )\n",
    "                         )\n",
    "                )"
   ]
  },
  {
   "cell_type": "markdown",
   "metadata": {},
   "source": [
    "# Enter `numpy.select()`\n",
    "Notice that the np.where code is not very tractable. It gets nested although it is fast. \n",
    "An elegant way to run multiple conditions is to use numpy.select()\n",
    "\n",
    "[Documentation](https://docs.scipy.org/doc/numpy/reference/generated/numpy.select.html)"
   ]
  },
  {
   "cell_type": "code",
   "execution_count": 22,
   "metadata": {},
   "outputs": [
    {
     "name": "stdout",
     "output_type": "stream",
     "text": [
      "10 loops, best of 3: 158 ms per loop\n"
     ]
    }
   ],
   "source": [
    "%%timeit\n",
    "conditions = [\n",
    "    df['Original Record: Date Created'].values == df['Date Created'].values,\n",
    "    df['normalized_status'].str.startswith('CLI').values,\n",
    "    df['normalized_status'].isin(list1).values,\n",
    "    df['normalized_status'].isin(list2).values\n",
    "]\n",
    "\n",
    "choices = [\n",
    "    'New Lead', \n",
    "    'Client Lead', \n",
    "    'MTouch Lead',\n",
    "    'EMTouch Lead'\n",
    "]\n",
    "\n",
    "\n",
    "df['lead_category1'] = np.select(conditions, choices, default='NA')  # Order of operations matter!"
   ]
  },
  {
   "cell_type": "code",
   "execution_count": 23,
   "metadata": {},
   "outputs": [
    {
     "data": {
      "text/plain": [
       "True"
      ]
     },
     "execution_count": 23,
     "metadata": {},
     "output_type": "execute_result"
    }
   ],
   "source": [
    "# Their output logic is the same\n",
    "(df.lead_category == df.lead_category1).all()"
   ]
  },
  {
   "cell_type": "markdown",
   "metadata": {},
   "source": [
    "## What about nested multiple conditionals? Can we vectorize that?\n",
    "Yes, this can be done easily using numpy.select()"
   ]
  },
  {
   "cell_type": "code",
   "execution_count": 24,
   "metadata": {},
   "outputs": [],
   "source": [
    "# This is something you might think you can't vectorize, but you sure can!\n",
    "def sub_conditional(row):\n",
    "    if row['Inactive'] == 'No':\n",
    "        if row['Providers'] == 0:\n",
    "            return 'active_no_providers'\n",
    "        elif row['Providers'] < 5:\n",
    "            return 'active_small'\n",
    "        else:\n",
    "            return 'active_normal'\n",
    "    elif row['duplicate_leads']:\n",
    "        return 'is_dup'\n",
    "    else:\n",
    "        if row['bad_leads']:\n",
    "            return 'active_bad'\n",
    "        else:\n",
    "            return 'active_good'"
   ]
  },
  {
   "cell_type": "code",
   "execution_count": 25,
   "metadata": {},
   "outputs": [
    {
     "name": "stdout",
     "output_type": "stream",
     "text": [
      "1 loop, best of 3: 14.5 s per loop\n"
     ]
    }
   ],
   "source": [
    "%%timeit\n",
    "# Let's time how long it takes to apply a nested multiple condition func\n",
    "df['lead_type'] = df.apply(sub_conditional, axis=1)"
   ]
  },
  {
   "cell_type": "code",
   "execution_count": 26,
   "metadata": {},
   "outputs": [
    {
     "name": "stdout",
     "output_type": "stream",
     "text": [
      "10 loops, best of 3: 84.4 ms per loop\n"
     ]
    }
   ],
   "source": [
    "%%timeit\n",
    "\n",
    "# With np.select, could do .values here for additional speed, but left out to avoid too much text\n",
    "conditions = [\n",
    "    ((df['Inactive'] == 'No') & (df['Providers'] == 0)),\n",
    "    ((df['Inactive'] == 'No') & (df['Providers'] < 5)),\n",
    "    df['Inactive'] == 'No',\n",
    "    df['duplicate_leads'],  # <-- you can also just evaluate boolean arrays\n",
    "    df['bad_leads'],\n",
    "]\n",
    "\n",
    "choices = [\n",
    "    'active_no_providers',\n",
    "    'active_small',\n",
    "    'active_normal',\n",
    "    'is_dup',\n",
    "    'active_bad',\n",
    "]\n",
    "\n",
    "df['lead_type_vec'] = np.select(conditions, choices, default='NA')"
   ]
  },
  {
   "cell_type": "code",
   "execution_count": 28,
   "metadata": {},
   "outputs": [],
   "source": [
    "mask = (\n",
    "    ((df['Inactive'] == 'No') & (df['Providers'] == 0))\n",
    "    & ((df['Inactive'] == 'No') & (df['Providers'] < 5))\n",
    "    & (df['Inactive'] == 'No')\n",
    "    & (df['duplicate_leads'])  # <-- you can also just evaluate boolean arrays\n",
    "    & df['bad_leads']\n",
    ")\n"
   ]
  },
  {
   "cell_type": "code",
   "execution_count": 29,
   "metadata": {},
   "outputs": [
    {
     "name": "stderr",
     "output_type": "stream",
     "text": [
      "C:\\Users\\malshe\\AppData\\Local\\Continuum\\anaconda2\\lib\\site-packages\\ipykernel_launcher.py:5: RuntimeWarning: invalid value encountered in less\n",
      "  \"\"\"\n"
     ]
    },
    {
     "name": "stdout",
     "output_type": "stream",
     "text": [
      "10 loops, best of 3: 50.7 ms per loop\n"
     ]
    }
   ],
   "source": [
    "%%timeit\n",
    "\n",
    "# With np.select\n",
    "conditions = [\n",
    "    ((df['Inactive'].values == 'No') & (df['Providers'].values == 0)),\n",
    "    ((df['Inactive'].values == 'No') & (df['Providers'].values < 5)),\n",
    "    df['Inactive'].values == 'No',\n",
    "    df['duplicate_leads'].values,  # <-- you can also just evaluate boolean arrays\n",
    "    df['bad_leads'].values,\n",
    "]\n",
    "\n",
    "choices = [\n",
    "    'active_no_providers',\n",
    "    'active_small',\n",
    "    'active_normal',\n",
    "    'is_dup',\n",
    "    'active_bad',\n",
    "]\n",
    "\n",
    "df['lead_type_vec'] = np.select(conditions, choices, default='NA')"
   ]
  },
  {
   "cell_type": "markdown",
   "metadata": {},
   "source": [
    "# What about more complicated things?\n",
    "Of course this is just a tiny sample of things you might encounter, but I thought they could be useful to see how vectorization can still apply even with otherwise difficult cases."
   ]
  },
  {
   "cell_type": "markdown",
   "metadata": {},
   "source": [
    "#### Let us look at string manipulations"
   ]
  },
  {
   "cell_type": "code",
   "execution_count": 30,
   "metadata": {},
   "outputs": [
    {
     "data": {
      "text/html": [
       "<div>\n",
       "<style scoped>\n",
       "    .dataframe tbody tr th:only-of-type {\n",
       "        vertical-align: middle;\n",
       "    }\n",
       "\n",
       "    .dataframe tbody tr th {\n",
       "        vertical-align: top;\n",
       "    }\n",
       "\n",
       "    .dataframe thead th {\n",
       "        text-align: right;\n",
       "    }\n",
       "</style>\n",
       "<table border=\"1\" class=\"dataframe\">\n",
       "  <thead>\n",
       "    <tr style=\"text-align: right;\">\n",
       "      <th></th>\n",
       "      <th>Internal ID</th>\n",
       "      <th>ID</th>\n",
       "      <th>Category</th>\n",
       "      <th>Lead Source</th>\n",
       "      <th>Lead Source Category</th>\n",
       "      <th>Current Status</th>\n",
       "      <th>Status at Time of Lead</th>\n",
       "      <th>...</th>\n",
       "      <th>normalized_status</th>\n",
       "      <th>test</th>\n",
       "      <th>lead_category0</th>\n",
       "      <th>lead_category</th>\n",
       "      <th>lead_category1</th>\n",
       "      <th>lead_type</th>\n",
       "      <th>lead_type_vec</th>\n",
       "    </tr>\n",
       "  </thead>\n",
       "  <tbody>\n",
       "    <tr>\n",
       "      <th>0</th>\n",
       "      <td>16</td>\n",
       "      <td>1966</td>\n",
       "      <td>Practice</td>\n",
       "      <td>Nonpaid : Email : Webinar : Efficiency Kiosk A...</td>\n",
       "      <td>- None -</td>\n",
       "      <td>CLIENT-Deactivated</td>\n",
       "      <td>- None -</td>\n",
       "      <td>...</td>\n",
       "      <td>CLIENT-Deactivated</td>\n",
       "      <td>statys1_isNone</td>\n",
       "      <td>Client Lead</td>\n",
       "      <td>Client Lead</td>\n",
       "      <td>Client Lead</td>\n",
       "      <td>active_no_providers</td>\n",
       "      <td>active_no_providers</td>\n",
       "    </tr>\n",
       "    <tr>\n",
       "      <th>1</th>\n",
       "      <td>16</td>\n",
       "      <td>6213</td>\n",
       "      <td>Practice</td>\n",
       "      <td>Nonpaid : Email : Webinar : Efficiency Kiosk A...</td>\n",
       "      <td>- None -</td>\n",
       "      <td>CLIENT-Deactivated</td>\n",
       "      <td>- None -</td>\n",
       "      <td>...</td>\n",
       "      <td>CLIENT-Deactivated</td>\n",
       "      <td>statys1_isNone</td>\n",
       "      <td>Client Lead</td>\n",
       "      <td>Client Lead</td>\n",
       "      <td>Client Lead</td>\n",
       "      <td>active_no_providers</td>\n",
       "      <td>active_no_providers</td>\n",
       "    </tr>\n",
       "  </tbody>\n",
       "</table>\n",
       "<p>2 rows × 21 columns</p>\n",
       "</div>"
      ],
      "text/plain": [
       "   Internal ID    ID  Category  \\\n",
       "0           16  1966  Practice   \n",
       "1           16  6213  Practice   \n",
       "\n",
       "                                         Lead Source Lead Source Category  \\\n",
       "0  Nonpaid : Email : Webinar : Efficiency Kiosk A...             - None -   \n",
       "1  Nonpaid : Email : Webinar : Efficiency Kiosk A...             - None -   \n",
       "\n",
       "       Current Status Status at Time of Lead  ...   normalized_status  \\\n",
       "0  CLIENT-Deactivated               - None -  ...  CLIENT-Deactivated   \n",
       "1  CLIENT-Deactivated               - None -  ...  CLIENT-Deactivated   \n",
       "\n",
       "             test lead_category0 lead_category  lead_category1  \\\n",
       "0  statys1_isNone    Client Lead   Client Lead     Client Lead   \n",
       "1  statys1_isNone    Client Lead   Client Lead     Client Lead   \n",
       "\n",
       "             lead_type        lead_type_vec  \n",
       "0  active_no_providers  active_no_providers  \n",
       "1  active_no_providers  active_no_providers  \n",
       "\n",
       "[2 rows x 21 columns]"
      ]
     },
     "execution_count": 30,
     "metadata": {},
     "output_type": "execute_result"
    }
   ],
   "source": [
    "df.head(2)"
   ]
  },
  {
   "cell_type": "code",
   "execution_count": 31,
   "metadata": {},
   "outputs": [],
   "source": [
    "# Doing a regex search to find string patterns\n",
    "\n",
    "def find_paid_nonpaid(s):\n",
    "    if re.search(r'non.*?paid', s, re.I):\n",
    "        return 'non-paid'\n",
    "    elif re.search(r'Buyerzone|^paid\\s+', s, re.I):\n",
    "        return 'paid'\n",
    "    else:\n",
    "        return 'unknown'"
   ]
  },
  {
   "cell_type": "code",
   "execution_count": 32,
   "metadata": {},
   "outputs": [
    {
     "name": "stdout",
     "output_type": "stream",
     "text": [
      "1 loop, best of 3: 1.15 s per loop\n"
     ]
    }
   ],
   "source": [
    "%%timeit\n",
    "# our old friend .apply()\n",
    "df['lead_source_paid_unpaid'] = df['Lead Source'].apply(find_paid_nonpaid)"
   ]
  },
  {
   "cell_type": "markdown",
   "metadata": {},
   "source": [
    "How does `np.vectorize()` do for strings?"
   ]
  },
  {
   "cell_type": "code",
   "execution_count": 33,
   "metadata": {},
   "outputs": [
    {
     "name": "stdout",
     "output_type": "stream",
     "text": [
      "1 loop, best of 3: 914 ms per loop\n"
     ]
    }
   ],
   "source": [
    "%%timeit\n",
    "\n",
    "vect_str = np.vectorize(find_paid_nonpaid)\n",
    "\n",
    "df['lead_source_paid_unpaid1'] = vect_str(df['Lead Source'])"
   ]
  },
  {
   "cell_type": "code",
   "execution_count": 38,
   "metadata": {},
   "outputs": [
    {
     "name": "stdout",
     "output_type": "stream",
     "text": [
      "1 loop, best of 3: 794 ms per loop\n"
     ]
    }
   ],
   "source": [
    "%%timeit\n",
    "# How does a list comprehension do?\n",
    "df['lead_source_paid_unpaid2'] = ['non-paid' if re.search(r'non.*?paid', s, re.I) \n",
    "                                  else 'paid' if re.search(r'Buyerzone|^paid\\s+', s, re.I) \n",
    "                                  else 'unknown' for s in df['Lead Source']]"
   ]
  },
  {
   "cell_type": "markdown",
   "metadata": {},
   "source": [
    "pandas provides the `.str()` methods for working with strings."
   ]
  },
  {
   "cell_type": "code",
   "execution_count": 39,
   "metadata": {},
   "outputs": [
    {
     "name": "stdout",
     "output_type": "stream",
     "text": [
      "1 loop, best of 3: 770 ms per loop\n"
     ]
    }
   ],
   "source": [
    "%%timeit\n",
    "# How does this compare?\n",
    "conditions = [\n",
    "    df['Lead Source'].str.contains(r'non.*?paid', case=False, na=False),\n",
    "    df['Lead Source'].str.contains(r'Buyerzone|^paid\\s+', case=False, na=False),\n",
    "]\n",
    "\n",
    "choices = [\n",
    "    'non-paid',\n",
    "    'paid'\n",
    "]\n",
    "\n",
    "df['lead_source_paid_unpaid1'] = np.select(conditions, choices, default='unknown')"
   ]
  },
  {
   "cell_type": "markdown",
   "metadata": {},
   "source": [
    "*what about not searching strings?*"
   ]
  },
  {
   "cell_type": "code",
   "execution_count": 40,
   "metadata": {},
   "outputs": [
    {
     "name": "stdout",
     "output_type": "stream",
     "text": [
      "10 loops, best of 3: 139 ms per loop\n"
     ]
    }
   ],
   "source": [
    "%%timeit\n",
    "df['lowerls'] = df['Lead Source'].apply(lambda x: x.lower())"
   ]
  },
  {
   "cell_type": "code",
   "execution_count": 41,
   "metadata": {},
   "outputs": [
    {
     "name": "stdout",
     "output_type": "stream",
     "text": [
      "10 loops, best of 3: 149 ms per loop\n"
     ]
    }
   ],
   "source": [
    "%%timeit\n",
    "df['lowerls1'] = df['Lead Source'].str.lower()"
   ]
  },
  {
   "cell_type": "markdown",
   "metadata": {},
   "source": [
    "#### Dictionary lookups"
   ]
  },
  {
   "cell_type": "code",
   "execution_count": 34,
   "metadata": {},
   "outputs": [],
   "source": [
    "channel_dict = {\n",
    "    'Billing Service': 'BS', \n",
    "    'Consultant': 'PD', \n",
    "    'Educational': 'PD', \n",
    "    'Enterprise': 'PD', \n",
    "    'Hospital': 'PD', \n",
    "    'IPA': 'PD', \n",
    "    'MBS': 'RCM', \n",
    "    'MSO': 'PD', \n",
    "    'Medical practice': 'PD', \n",
    "    'Other': 'PD', \n",
    "    'Partner': 'PD',\n",
    "    'PhyBillers': 'BS', \n",
    "    'Practice': 'PD', \n",
    "    'Purchasing Group': 'PD',\n",
    "    'Reseller': 'BS', \n",
    "    'Vendor': 'PD', \n",
    "    '_Other': 'PD', \n",
    "    'RCM': 'RCM'\n",
    "}\n",
    "\n",
    "def a_dict_lookup(row):\n",
    "    if row['Providers'] > 7:\n",
    "        return 'Upmarket'\n",
    "    else:\n",
    "        channel = channel_dict.get(row['Category'])\n",
    "        return channel"
   ]
  },
  {
   "cell_type": "code",
   "execution_count": 35,
   "metadata": {},
   "outputs": [
    {
     "name": "stdout",
     "output_type": "stream",
     "text": [
      "1 loop, best of 3: 8.34 s per loop\n"
     ]
    }
   ],
   "source": [
    "%%timeit\n",
    "df['dict_lookup'] = df.apply(a_dict_lookup, axis=1)"
   ]
  },
  {
   "cell_type": "code",
   "execution_count": 38,
   "metadata": {},
   "outputs": [
    {
     "name": "stderr",
     "output_type": "stream",
     "text": [
      "C:\\Users\\malshe\\AppData\\Local\\Continuum\\anaconda2\\lib\\site-packages\\ipykernel_launcher.py:258: RuntimeWarning: invalid value encountered in greater\n"
     ]
    },
    {
     "name": "stdout",
     "output_type": "stream",
     "text": [
      "10 loops, best of 3: 32.7 ms per loop\n"
     ]
    }
   ],
   "source": [
    "%%timeit\n",
    "df['dict_lookup1'] = np.where(\n",
    "    df['Providers'].values > 7, \n",
    "    'Upmarket',\n",
    "    df['Category'].map(channel_dict)\n",
    ")"
   ]
  },
  {
   "cell_type": "code",
   "execution_count": 39,
   "metadata": {},
   "outputs": [
    {
     "name": "stdout",
     "output_type": "stream",
     "text": [
      "10 loops, best of 3: 32.3 ms per loop\n"
     ]
    }
   ],
   "source": [
    "%%timeit\n",
    "channel_values = df['Category'].map(channel_dict)\n",
    "df['dict_lookup1'] = np.where(\n",
    "    df['Providers'] > 7, \n",
    "    'Upmarket',\n",
    "    channel_values\n",
    ")"
   ]
  },
  {
   "cell_type": "code",
   "execution_count": 40,
   "metadata": {},
   "outputs": [
    {
     "name": "stdout",
     "output_type": "stream",
     "text": [
      "10 loops, best of 3: 42.8 ms per loop\n"
     ]
    }
   ],
   "source": [
    "%%timeit\n",
    "# Using np.vectorize to vectorize a dictionary .get() method works, but is slower than .map()\n",
    "channel_values = np.vectorize(channel_dict.get)(df['Category'].values)\n",
    "df['dict_lookup2'] = np.where(\n",
    "    df['Providers'] > 7, \n",
    "    'Upmarket',\n",
    "    channel_values\n",
    ")"
   ]
  },
  {
   "cell_type": "markdown",
   "metadata": {},
   "source": [
    "#### Date operations"
   ]
  },
  {
   "cell_type": "code",
   "execution_count": 42,
   "metadata": {},
   "outputs": [
    {
     "data": {
      "text/html": [
       "<div>\n",
       "<style scoped>\n",
       "    .dataframe tbody tr th:only-of-type {\n",
       "        vertical-align: middle;\n",
       "    }\n",
       "\n",
       "    .dataframe tbody tr th {\n",
       "        vertical-align: top;\n",
       "    }\n",
       "\n",
       "    .dataframe thead th {\n",
       "        text-align: right;\n",
       "    }\n",
       "</style>\n",
       "<table border=\"1\" class=\"dataframe\">\n",
       "  <thead>\n",
       "    <tr style=\"text-align: right;\">\n",
       "      <th></th>\n",
       "      <th>Internal ID</th>\n",
       "      <th>ID</th>\n",
       "      <th>Category</th>\n",
       "      <th>Lead Source</th>\n",
       "      <th>Lead Source Category</th>\n",
       "      <th>Current Status</th>\n",
       "      <th>Status at Time of Lead</th>\n",
       "      <th>...</th>\n",
       "      <th>lead_type</th>\n",
       "      <th>lead_type_vec</th>\n",
       "      <th>lead_source_paid_unpaid</th>\n",
       "      <th>lead_source_paid_unpaid1</th>\n",
       "      <th>dict_lookup</th>\n",
       "      <th>dict_lookup1</th>\n",
       "      <th>dict_lookup2</th>\n",
       "    </tr>\n",
       "  </thead>\n",
       "  <tbody>\n",
       "    <tr>\n",
       "      <th>0</th>\n",
       "      <td>16</td>\n",
       "      <td>1966</td>\n",
       "      <td>Practice</td>\n",
       "      <td>Nonpaid : Email : Webinar : Efficiency Kiosk A...</td>\n",
       "      <td>- None -</td>\n",
       "      <td>CLIENT-Deactivated</td>\n",
       "      <td>- None -</td>\n",
       "      <td>...</td>\n",
       "      <td>active_no_providers</td>\n",
       "      <td>active_no_providers</td>\n",
       "      <td>non-paid</td>\n",
       "      <td>non-paid</td>\n",
       "      <td>PD</td>\n",
       "      <td>PD</td>\n",
       "      <td>PD</td>\n",
       "    </tr>\n",
       "    <tr>\n",
       "      <th>1</th>\n",
       "      <td>16</td>\n",
       "      <td>6213</td>\n",
       "      <td>Practice</td>\n",
       "      <td>Nonpaid : Email : Webinar : Efficiency Kiosk A...</td>\n",
       "      <td>- None -</td>\n",
       "      <td>CLIENT-Deactivated</td>\n",
       "      <td>- None -</td>\n",
       "      <td>...</td>\n",
       "      <td>active_no_providers</td>\n",
       "      <td>active_no_providers</td>\n",
       "      <td>non-paid</td>\n",
       "      <td>non-paid</td>\n",
       "      <td>PD</td>\n",
       "      <td>PD</td>\n",
       "      <td>PD</td>\n",
       "    </tr>\n",
       "  </tbody>\n",
       "</table>\n",
       "<p>2 rows × 26 columns</p>\n",
       "</div>"
      ],
      "text/plain": [
       "   Internal ID    ID  Category  \\\n",
       "0           16  1966  Practice   \n",
       "1           16  6213  Practice   \n",
       "\n",
       "                                         Lead Source Lead Source Category  \\\n",
       "0  Nonpaid : Email : Webinar : Efficiency Kiosk A...             - None -   \n",
       "1  Nonpaid : Email : Webinar : Efficiency Kiosk A...             - None -   \n",
       "\n",
       "       Current Status Status at Time of Lead  ...            lead_type  \\\n",
       "0  CLIENT-Deactivated               - None -  ...  active_no_providers   \n",
       "1  CLIENT-Deactivated               - None -  ...  active_no_providers   \n",
       "\n",
       "         lead_type_vec lead_source_paid_unpaid lead_source_paid_unpaid1  \\\n",
       "0  active_no_providers                non-paid                 non-paid   \n",
       "1  active_no_providers                non-paid                 non-paid   \n",
       "\n",
       "   dict_lookup  dict_lookup1  dict_lookup2  \n",
       "0           PD            PD            PD  \n",
       "1           PD            PD            PD  \n",
       "\n",
       "[2 rows x 26 columns]"
      ]
     },
     "execution_count": 42,
     "metadata": {},
     "output_type": "execute_result"
    }
   ],
   "source": [
    "df.head(2)"
   ]
  },
  {
   "cell_type": "code",
   "execution_count": 43,
   "metadata": {},
   "outputs": [],
   "source": [
    "# make a new column called 'Start Date' for dummy testing\n",
    "# ONly do a fraction so we have some NaN values\n",
    "df['Start Date'] = df['Date Created'].sample(frac=0.8)"
   ]
  },
  {
   "cell_type": "code",
   "execution_count": 44,
   "metadata": {},
   "outputs": [],
   "source": [
    "def weeks_to_complete(row):\n",
    "    \"\"\"Calculate the number of weeks between two dates\"\"\"\n",
    "    if pd.isnull(row['Start Date']):\n",
    "        return (row['Original Record: Date Created'] -  row['Date Created']).days / 7\n",
    "    else:\n",
    "        return (row['Date Created'] - row['Start Date']).days / 7"
   ]
  },
  {
   "cell_type": "code",
   "execution_count": 45,
   "metadata": {},
   "outputs": [
    {
     "name": "stdout",
     "output_type": "stream",
     "text": [
      "1 loop, best of 3: 25.1 s per loop\n"
     ]
    }
   ],
   "source": [
    "%%timeit\n",
    "wtc1 = df.apply(weeks_to_complete, axis=1)"
   ]
  },
  {
   "cell_type": "markdown",
   "metadata": {},
   "source": [
    "One approach to vectorization is to use pandas `.dt` datetime accessors. "
   ]
  },
  {
   "cell_type": "code",
   "execution_count": 47,
   "metadata": {},
   "outputs": [
    {
     "name": "stdout",
     "output_type": "stream",
     "text": [
      "10 loops, best of 3: 47.5 ms per loop\n"
     ]
    }
   ],
   "source": [
    "%%timeit\n",
    "wtc2 = np.where(\n",
    "    df['Start Date'].isnull().values,\n",
    "    (df['Original Record: Date Created'].values - df['Date Created']).dt.days / 7,\n",
    "    (df['Date Created'].values - df['Start Date']).dt.days / 7\n",
    ")"
   ]
  },
  {
   "cell_type": "markdown",
   "metadata": {},
   "source": [
    "Another approach is to do ndarray type casting, converting our series into numpy timedelta arrays. This way is faster, but more verbose and kinda more code for basically the same thing."
   ]
  },
  {
   "cell_type": "code",
   "execution_count": 46,
   "metadata": {},
   "outputs": [
    {
     "name": "stdout",
     "output_type": "stream",
     "text": [
      "10 loops, best of 3: 21.2 ms per loop\n"
     ]
    }
   ],
   "source": [
    "%%timeit\n",
    "wtc3 = np.where(\n",
    "    df['Start Date'].isnull().values,\n",
    "    ((df['Original Record: Date Created'].values - df['Date Created'].values).astype('timedelta64[D]') / np.timedelta64(1, 'D')) / 7,\n",
    "    ((df['Date Created'].values - df['Start Date'].values).astype('timedelta64[D]') / np.timedelta64(1, 'D')) / 7\n",
    ")"
   ]
  },
  {
   "cell_type": "markdown",
   "metadata": {},
   "source": [
    "#### Needing values on other rows for the logic\n",
    "This example comes from a task I had to recreate a function like this in Excel:\n",
    "```excel\n",
    "=IF(A2=A1, IF(L2-L1 < 5, 0, 1), 1))\n",
    "```\n",
    "Where the `A` column is for ids, and the `L` column is for dates."
   ]
  },
  {
   "cell_type": "code",
   "execution_count": 48,
   "metadata": {},
   "outputs": [],
   "source": [
    "def time_looper(df):\n",
    "    \"\"\" Using a plain Python for loop\"\"\"\n",
    "    output = []\n",
    "    for i, row in enumerate(range(0, len(df))):\n",
    "        if i > 0:\n",
    "            \n",
    "            # compare the current id to the row above\n",
    "            if df.iloc[i]['Internal ID'] == df.iloc[i-1]['Internal ID']:\n",
    "                \n",
    "                # compare the current date to the row above\n",
    "                if (df.iloc[i]['Date Created'] - df.iloc[i-1]['Original Record: Date Created']).days < 5:\n",
    "                    output.append(0)\n",
    "                else:\n",
    "                    output.append(1)\n",
    "            else:\n",
    "                output.append(1)\n",
    "        else:\n",
    "            output.append(np.nan)\n",
    "    return output"
   ]
  },
  {
   "cell_type": "code",
   "execution_count": 49,
   "metadata": {},
   "outputs": [],
   "source": [
    "def time_looper2(df):\n",
    "    \"\"\"Using pandas dataframe `.iterrows()` method for iterating over rows\"\"\"\n",
    "    output = []\n",
    "    for i, row in df.iterrows():\n",
    "        if i > 0:\n",
    "            if df.iloc[i]['Internal ID'] == df.iloc[i-1]['Internal ID']:\n",
    "                if (df.iloc[i]['Date Created'] - df.iloc[i-1]['Original Record: Date Created']).days < 5:\n",
    "                    output.append(0)\n",
    "                else:\n",
    "                    output.append(1)\n",
    "            else:\n",
    "                output.append(1)\n",
    "        else:\n",
    "            output.append(np.nan)\n",
    "    return output"
   ]
  },
  {
   "cell_type": "code",
   "execution_count": 50,
   "metadata": {},
   "outputs": [],
   "source": [
    "df.sort_values(['Internal ID', 'Date Created'], inplace=True)"
   ]
  },
  {
   "cell_type": "code",
   "execution_count": 51,
   "metadata": {},
   "outputs": [
    {
     "name": "stdout",
     "output_type": "stream",
     "text": [
      "Wall time: 5min 41s\n"
     ]
    }
   ],
   "source": [
    "%%time\n",
    "df['time_col_raw_for'] = time_looper(df)"
   ]
  },
  {
   "cell_type": "code",
   "execution_count": 52,
   "metadata": {},
   "outputs": [
    {
     "name": "stdout",
     "output_type": "stream",
     "text": [
      "Wall time: 4min 45s\n"
     ]
    }
   ],
   "source": [
    "%%time\n",
    "df['time_col_iterrows'] = time_looper2(df)"
   ]
  },
  {
   "cell_type": "markdown",
   "metadata": {},
   "source": [
    "Our approach to vectorizing this unfortunate situation was two-fold:\n",
    " 1. Using the pandas `.shift()` function, we moved previous values down so they're on the same axis as what we're comparing them to \n",
    " 2. `np.select()` for the vectorized conditional logic check\n",
    " "
   ]
  },
  {
   "cell_type": "code",
   "execution_count": 53,
   "metadata": {},
   "outputs": [
    {
     "name": "stdout",
     "output_type": "stream",
     "text": [
      "10 loops, best of 3: 39.2 ms per loop\n"
     ]
    }
   ],
   "source": [
    "%%timeit\n",
    "previous_id = df['Internal ID'].shift(1).fillna(0).astype(int)\n",
    "previous_date = df['Original Record: Date Created'].shift(1).fillna(pd.Timestamp('1900'))\n",
    "\n",
    "conditions = [\n",
    "    ((df['Internal ID'].values ==  previous_id) & \n",
    "     (df['Date Created'] - previous_date).astype('timedelta64[D]') < 5),\n",
    "    df['Internal ID'].values ==  previous_id\n",
    "]\n",
    "choices = [0, 1]\n",
    "df['time_col1'] = np.select(conditions, choices, default=1)"
   ]
  },
  {
   "cell_type": "code",
   "execution_count": 54,
   "metadata": {},
   "outputs": [
    {
     "data": {
      "text/plain": [
       "False"
      ]
     },
     "execution_count": 54,
     "metadata": {},
     "output_type": "execute_result"
    }
   ],
   "source": [
    "(df['time_col1'] == df['time_col_iterrows']).all()"
   ]
  },
  {
   "cell_type": "markdown",
   "metadata": {},
   "source": [
    "# Conclusions: \n",
    "1. Look for a method where you can invoke numpy.where, numpy.select or numpy.vectorize, and you can get dramatic speed gainst compared to .apply, or simple nested for loops in Python. \n",
    "2. Almost always, a method can be developed which can eliminate .apply\n",
    "    "
   ]
  },
  {
   "cell_type": "code",
   "execution_count": null,
   "metadata": {},
   "outputs": [],
   "source": []
  }
 ],
 "metadata": {
  "kernelspec": {
   "display_name": "Python 2",
   "language": "python",
   "name": "python2"
  },
  "language_info": {
   "codemirror_mode": {
    "name": "ipython",
    "version": 2
   },
   "file_extension": ".py",
   "mimetype": "text/x-python",
   "name": "python",
   "nbconvert_exporter": "python",
   "pygments_lexer": "ipython2",
   "version": "2.7.14"
  },
  "toc-autonumbering": false
 },
 "nbformat": 4,
 "nbformat_minor": 4
}
